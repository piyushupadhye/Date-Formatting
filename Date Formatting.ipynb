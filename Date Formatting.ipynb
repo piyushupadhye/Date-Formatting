{
 "cells": [
  {
   "cell_type": "code",
   "execution_count": 4,
   "id": "4603bc92",
   "metadata": {},
   "outputs": [],
   "source": [
    "def frmt(date1):\n",
    "    MONTH = [None, 'Jan', 'Feb','Mar','Apr','May','Jun','Jul','Aug','Sep','Oct','Nov','Dec'] \n",
    "    date2 = date1.split('/')\n",
    "    month = int(date2[1])\n",
    "    for i in MONTH:\n",
    "        if month==MONTH.index(i):\n",
    "            s=(date2[0]+ \" \" + format(i)+ \" \" + date2[2])\n",
    "            return s"
   ]
  },
  {
   "cell_type": "code",
   "execution_count": 5,
   "id": "5b7033eb",
   "metadata": {},
   "outputs": [
    {
     "name": "stdout",
     "output_type": "stream",
     "text": [
      "01/01/2001\n"
     ]
    },
    {
     "data": {
      "text/plain": [
       "'01 Jan 2001'"
      ]
     },
     "execution_count": 5,
     "metadata": {},
     "output_type": "execute_result"
    }
   ],
   "source": [
    "date = input('')\n",
    "frmt(date)"
   ]
  }
 ],
 "metadata": {
  "kernelspec": {
   "display_name": "Python 3 (ipykernel)",
   "language": "python",
   "name": "python3"
  },
  "language_info": {
   "codemirror_mode": {
    "name": "ipython",
    "version": 3
   },
   "file_extension": ".py",
   "mimetype": "text/x-python",
   "name": "python",
   "nbconvert_exporter": "python",
   "pygments_lexer": "ipython3",
   "version": "3.9.7"
  }
 },
 "nbformat": 4,
 "nbformat_minor": 5
}
